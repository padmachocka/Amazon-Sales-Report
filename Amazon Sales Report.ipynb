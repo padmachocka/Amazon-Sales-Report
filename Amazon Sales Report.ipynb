{
 "cells": [
  {
   "cell_type": "code",
   "execution_count": 168,
   "id": "a2722821-56a3-482a-aa3d-577ff00670ca",
   "metadata": {},
   "outputs": [],
   "source": [
    "import numpy as np\n",
    "import pandas as pd\n",
    "import matplotlib.pyplot as plt\n",
    "import seaborn as sns"
   ]
  },
  {
   "cell_type": "markdown",
   "id": "d9247000-4df0-457c-a472-58d8c87df1f2",
   "metadata": {},
   "source": [
    "1. Data Cleaning: Handling Missing Values\n",
    "\n",
    "●\tTask: Write a script that loads a CSV file into a pandas DataFrame, checks for missing values, and fills them with the mean or median of the column.\n"
   ]
  },
  {
   "cell_type": "code",
   "execution_count": 171,
   "id": "d4d7dadd-2613-449d-a1d2-c2c5e2096286",
   "metadata": {},
   "outputs": [],
   "source": [
    "df = pd.read_csv(\"Amazon Sale Report.csv\")"
   ]
  },
  {
   "cell_type": "markdown",
   "id": "6ab1bd99-4a2c-4afb-a0f0-9f4916f031c4",
   "metadata": {},
   "source": [
    "\n",
    "Show the first 5 rows of the dataset"
   ]
  },
  {
   "cell_type": "code",
   "execution_count": 173,
   "id": "f3bed213-3a8f-45fa-94b2-def94a420953",
   "metadata": {},
   "outputs": [
    {
     "data": {
      "text/html": [
       "<div>\n",
       "<style scoped>\n",
       "    .dataframe tbody tr th:only-of-type {\n",
       "        vertical-align: middle;\n",
       "    }\n",
       "\n",
       "    .dataframe tbody tr th {\n",
       "        vertical-align: top;\n",
       "    }\n",
       "\n",
       "    .dataframe thead th {\n",
       "        text-align: right;\n",
       "    }\n",
       "</style>\n",
       "<table border=\"1\" class=\"dataframe\">\n",
       "  <thead>\n",
       "    <tr style=\"text-align: right;\">\n",
       "      <th></th>\n",
       "      <th>index</th>\n",
       "      <th>Order ID</th>\n",
       "      <th>Date</th>\n",
       "      <th>Status</th>\n",
       "      <th>Fulfilment</th>\n",
       "      <th>Sales Channel</th>\n",
       "      <th>ship-service-level</th>\n",
       "      <th>Category</th>\n",
       "      <th>Size</th>\n",
       "      <th>Courier Status</th>\n",
       "      <th>...</th>\n",
       "      <th>currency</th>\n",
       "      <th>Amount</th>\n",
       "      <th>ship-city</th>\n",
       "      <th>ship-state</th>\n",
       "      <th>ship-postal-code</th>\n",
       "      <th>ship-country</th>\n",
       "      <th>B2B</th>\n",
       "      <th>fulfilled-by</th>\n",
       "      <th>New</th>\n",
       "      <th>PendingS</th>\n",
       "    </tr>\n",
       "  </thead>\n",
       "  <tbody>\n",
       "    <tr>\n",
       "      <th>0</th>\n",
       "      <td>0</td>\n",
       "      <td>405-8078784-5731545</td>\n",
       "      <td>04-30-22</td>\n",
       "      <td>Cancelled</td>\n",
       "      <td>Merchant</td>\n",
       "      <td>Amazon.in</td>\n",
       "      <td>Standard</td>\n",
       "      <td>T-shirt</td>\n",
       "      <td>S</td>\n",
       "      <td>On the Way</td>\n",
       "      <td>...</td>\n",
       "      <td>INR</td>\n",
       "      <td>647.62</td>\n",
       "      <td>MUMBAI</td>\n",
       "      <td>MAHARASHTRA</td>\n",
       "      <td>400081.0</td>\n",
       "      <td>IN</td>\n",
       "      <td>False</td>\n",
       "      <td>Easy Ship</td>\n",
       "      <td>NaN</td>\n",
       "      <td>NaN</td>\n",
       "    </tr>\n",
       "    <tr>\n",
       "      <th>1</th>\n",
       "      <td>1</td>\n",
       "      <td>171-9198151-1101146</td>\n",
       "      <td>04-30-22</td>\n",
       "      <td>Shipped - Delivered to Buyer</td>\n",
       "      <td>Merchant</td>\n",
       "      <td>Amazon.in</td>\n",
       "      <td>Standard</td>\n",
       "      <td>Shirt</td>\n",
       "      <td>3XL</td>\n",
       "      <td>Shipped</td>\n",
       "      <td>...</td>\n",
       "      <td>INR</td>\n",
       "      <td>406.00</td>\n",
       "      <td>BENGALURU</td>\n",
       "      <td>KARNATAKA</td>\n",
       "      <td>560085.0</td>\n",
       "      <td>IN</td>\n",
       "      <td>False</td>\n",
       "      <td>Easy Ship</td>\n",
       "      <td>NaN</td>\n",
       "      <td>NaN</td>\n",
       "    </tr>\n",
       "    <tr>\n",
       "      <th>2</th>\n",
       "      <td>2</td>\n",
       "      <td>404-0687676-7273146</td>\n",
       "      <td>04-30-22</td>\n",
       "      <td>Shipped</td>\n",
       "      <td>Amazon</td>\n",
       "      <td>Amazon.in</td>\n",
       "      <td>Expedited</td>\n",
       "      <td>Shirt</td>\n",
       "      <td>XL</td>\n",
       "      <td>Shipped</td>\n",
       "      <td>...</td>\n",
       "      <td>INR</td>\n",
       "      <td>329.00</td>\n",
       "      <td>NAVI MUMBAI</td>\n",
       "      <td>MAHARASHTRA</td>\n",
       "      <td>410210.0</td>\n",
       "      <td>IN</td>\n",
       "      <td>True</td>\n",
       "      <td>NaN</td>\n",
       "      <td>NaN</td>\n",
       "      <td>NaN</td>\n",
       "    </tr>\n",
       "    <tr>\n",
       "      <th>3</th>\n",
       "      <td>3</td>\n",
       "      <td>403-9615377-8133951</td>\n",
       "      <td>04-30-22</td>\n",
       "      <td>Cancelled</td>\n",
       "      <td>Merchant</td>\n",
       "      <td>Amazon.in</td>\n",
       "      <td>Standard</td>\n",
       "      <td>Blazzer</td>\n",
       "      <td>L</td>\n",
       "      <td>On the Way</td>\n",
       "      <td>...</td>\n",
       "      <td>INR</td>\n",
       "      <td>753.33</td>\n",
       "      <td>PUDUCHERRY</td>\n",
       "      <td>PUDUCHERRY</td>\n",
       "      <td>605008.0</td>\n",
       "      <td>IN</td>\n",
       "      <td>False</td>\n",
       "      <td>Easy Ship</td>\n",
       "      <td>NaN</td>\n",
       "      <td>NaN</td>\n",
       "    </tr>\n",
       "    <tr>\n",
       "      <th>4</th>\n",
       "      <td>4</td>\n",
       "      <td>407-1069790-7240320</td>\n",
       "      <td>04-30-22</td>\n",
       "      <td>Shipped</td>\n",
       "      <td>Amazon</td>\n",
       "      <td>Amazon.in</td>\n",
       "      <td>Expedited</td>\n",
       "      <td>Trousers</td>\n",
       "      <td>3XL</td>\n",
       "      <td>Shipped</td>\n",
       "      <td>...</td>\n",
       "      <td>INR</td>\n",
       "      <td>574.00</td>\n",
       "      <td>CHENNAI</td>\n",
       "      <td>TAMIL NADU</td>\n",
       "      <td>600073.0</td>\n",
       "      <td>IN</td>\n",
       "      <td>False</td>\n",
       "      <td>NaN</td>\n",
       "      <td>NaN</td>\n",
       "      <td>NaN</td>\n",
       "    </tr>\n",
       "  </tbody>\n",
       "</table>\n",
       "<p>5 rows × 21 columns</p>\n",
       "</div>"
      ],
      "text/plain": [
       "   index             Order ID      Date                        Status  \\\n",
       "0      0  405-8078784-5731545  04-30-22                     Cancelled   \n",
       "1      1  171-9198151-1101146  04-30-22  Shipped - Delivered to Buyer   \n",
       "2      2  404-0687676-7273146  04-30-22                       Shipped   \n",
       "3      3  403-9615377-8133951  04-30-22                     Cancelled   \n",
       "4      4  407-1069790-7240320  04-30-22                       Shipped   \n",
       "\n",
       "  Fulfilment Sales Channel ship-service-level  Category Size Courier Status  \\\n",
       "0   Merchant     Amazon.in           Standard   T-shirt    S     On the Way   \n",
       "1   Merchant     Amazon.in           Standard     Shirt  3XL        Shipped   \n",
       "2     Amazon     Amazon.in          Expedited     Shirt   XL        Shipped   \n",
       "3   Merchant     Amazon.in           Standard   Blazzer    L     On the Way   \n",
       "4     Amazon     Amazon.in          Expedited  Trousers  3XL        Shipped   \n",
       "\n",
       "   ...  currency  Amount    ship-city   ship-state ship-postal-code  \\\n",
       "0  ...       INR  647.62       MUMBAI  MAHARASHTRA         400081.0   \n",
       "1  ...       INR  406.00    BENGALURU    KARNATAKA         560085.0   \n",
       "2  ...       INR  329.00  NAVI MUMBAI  MAHARASHTRA         410210.0   \n",
       "3  ...       INR  753.33   PUDUCHERRY   PUDUCHERRY         605008.0   \n",
       "4  ...       INR  574.00      CHENNAI   TAMIL NADU         600073.0   \n",
       "\n",
       "   ship-country    B2B  fulfilled-by New  PendingS  \n",
       "0            IN  False     Easy Ship NaN       NaN  \n",
       "1            IN  False     Easy Ship NaN       NaN  \n",
       "2            IN   True           NaN NaN       NaN  \n",
       "3            IN  False     Easy Ship NaN       NaN  \n",
       "4            IN  False           NaN NaN       NaN  \n",
       "\n",
       "[5 rows x 21 columns]"
      ]
     },
     "execution_count": 173,
     "metadata": {},
     "output_type": "execute_result"
    }
   ],
   "source": [
    "df.head()"
   ]
  },
  {
   "cell_type": "code",
   "execution_count": 174,
   "id": "6ffccb55-e83b-4a70-8e85-064a097e0f30",
   "metadata": {},
   "outputs": [],
   "source": [
    "# Get basic information about the dataset"
   ]
  },
  {
   "cell_type": "code",
   "execution_count": 178,
   "id": "e379f879-ef24-4ee1-8ca7-a57ce570347d",
   "metadata": {},
   "outputs": [
    {
     "name": "stdout",
     "output_type": "stream",
     "text": [
      "<class 'pandas.core.frame.DataFrame'>\n",
      "RangeIndex: 128976 entries, 0 to 128975\n",
      "Data columns (total 21 columns):\n",
      " #   Column              Non-Null Count   Dtype  \n",
      "---  ------              --------------   -----  \n",
      " 0   index               128976 non-null  int64  \n",
      " 1   Order ID            128976 non-null  object \n",
      " 2   Date                128976 non-null  object \n",
      " 3   Status              128976 non-null  object \n",
      " 4   Fulfilment          128976 non-null  object \n",
      " 5   Sales Channel       128976 non-null  object \n",
      " 6   ship-service-level  128976 non-null  object \n",
      " 7   Category            128976 non-null  object \n",
      " 8   Size                128976 non-null  object \n",
      " 9   Courier Status      128976 non-null  object \n",
      " 10  Qty                 128976 non-null  int64  \n",
      " 11  currency            121176 non-null  object \n",
      " 12  Amount              121176 non-null  float64\n",
      " 13  ship-city           128941 non-null  object \n",
      " 14  ship-state          128941 non-null  object \n",
      " 15  ship-postal-code    128941 non-null  float64\n",
      " 16  ship-country        128941 non-null  object \n",
      " 17  B2B                 128976 non-null  bool   \n",
      " 18  fulfilled-by        39263 non-null   object \n",
      " 19  New                 0 non-null       float64\n",
      " 20  PendingS            0 non-null       float64\n",
      "dtypes: bool(1), float64(4), int64(2), object(14)\n",
      "memory usage: 19.8+ MB\n"
     ]
    }
   ],
   "source": [
    "df.info()"
   ]
  },
  {
   "cell_type": "code",
   "execution_count": 180,
   "id": "3b7286b3-76e4-43a2-9653-12498673fc99",
   "metadata": {},
   "outputs": [],
   "source": [
    "#count of null values"
   ]
  },
  {
   "cell_type": "code",
   "execution_count": 182,
   "id": "9a6d501d-4b60-4259-9bb0-be45e6536a2c",
   "metadata": {},
   "outputs": [
    {
     "data": {
      "text/plain": [
       "index                      0\n",
       "Order ID                   0\n",
       "Date                       0\n",
       "Status                     0\n",
       "Fulfilment                 0\n",
       "Sales Channel              0\n",
       "ship-service-level         0\n",
       "Category                   0\n",
       "Size                       0\n",
       "Courier Status             0\n",
       "Qty                        0\n",
       "currency                7800\n",
       "Amount                  7800\n",
       "ship-city                 35\n",
       "ship-state                35\n",
       "ship-postal-code          35\n",
       "ship-country              35\n",
       "B2B                        0\n",
       "fulfilled-by           89713\n",
       "New                   128976\n",
       "PendingS              128976\n",
       "dtype: int64"
      ]
     },
     "execution_count": 182,
     "metadata": {},
     "output_type": "execute_result"
    }
   ],
   "source": [
    "df.isnull().sum()"
   ]
  },
  {
   "cell_type": "markdown",
   "id": "61b6cdc6-ca00-41d2-bfad-cc15e73f8208",
   "metadata": {},
   "source": [
    "Deleting unwanted columns"
   ]
  },
  {
   "cell_type": "code",
   "execution_count": 185,
   "id": "c0b7a9f5-211c-4988-989c-c96b9ee94d71",
   "metadata": {},
   "outputs": [],
   "source": [
    "df = df.drop([\"New\",\"PendingS\"],axis = 1)"
   ]
  },
  {
   "cell_type": "markdown",
   "id": "e1ab1503-c32d-4d46-a64e-e2cd5f77f922",
   "metadata": {},
   "source": [
    "Checking the column names"
   ]
  },
  {
   "cell_type": "code",
   "execution_count": 188,
   "id": "72e14961-f001-4142-9899-38b16ff0cf5e",
   "metadata": {},
   "outputs": [
    {
     "data": {
      "text/plain": [
       "Index(['index', 'Order ID', 'Date', 'Status', 'Fulfilment', 'Sales Channel',\n",
       "       'ship-service-level', 'Category', 'Size', 'Courier Status', 'Qty',\n",
       "       'currency', 'Amount', 'ship-city', 'ship-state', 'ship-postal-code',\n",
       "       'ship-country', 'B2B', 'fulfilled-by'],\n",
       "      dtype='object')"
      ]
     },
     "execution_count": 188,
     "metadata": {},
     "output_type": "execute_result"
    }
   ],
   "source": [
    "df.columns"
   ]
  },
  {
   "cell_type": "markdown",
   "id": "c6ce9784-7e5a-4d0a-aef2-090b6bfebbfd",
   "metadata": {},
   "source": [
    "Standardising the column names"
   ]
  },
  {
   "cell_type": "code",
   "execution_count": 191,
   "id": "fdfd61f4-3cc1-4865-95c4-7b0e91ce4306",
   "metadata": {},
   "outputs": [],
   "source": [
    "df.columns = df.columns.str.lower()"
   ]
  },
  {
   "cell_type": "code",
   "execution_count": 193,
   "id": "7fe9fc29-70e6-4516-a96c-77cd6ff872ce",
   "metadata": {},
   "outputs": [
    {
     "data": {
      "text/plain": [
       "Index(['index', 'order id', 'date', 'status', 'fulfilment', 'sales channel',\n",
       "       'ship-service-level', 'category', 'size', 'courier status', 'qty',\n",
       "       'currency', 'amount', 'ship-city', 'ship-state', 'ship-postal-code',\n",
       "       'ship-country', 'b2b', 'fulfilled-by'],\n",
       "      dtype='object')"
      ]
     },
     "execution_count": 193,
     "metadata": {},
     "output_type": "execute_result"
    }
   ],
   "source": [
    "df.columns"
   ]
  },
  {
   "cell_type": "code",
   "execution_count": 195,
   "id": "c6acbce0-dab8-4c8f-80da-a932757d2ccd",
   "metadata": {},
   "outputs": [],
   "source": [
    "df.columns = df.columns.str.replace(' ', '_').str.replace('-', '_').str.replace('qty', 'quantity')"
   ]
  },
  {
   "cell_type": "code",
   "execution_count": 197,
   "id": "9c92a494-1741-4dad-ad44-02a4c30149e1",
   "metadata": {},
   "outputs": [
    {
     "data": {
      "text/plain": [
       "Index(['index', 'order_id', 'date', 'status', 'fulfilment', 'sales_channel',\n",
       "       'ship_service_level', 'category', 'size', 'courier_status', 'quantity',\n",
       "       'currency', 'amount', 'ship_city', 'ship_state', 'ship_postal_code',\n",
       "       'ship_country', 'b2b', 'fulfilled_by'],\n",
       "      dtype='object')"
      ]
     },
     "execution_count": 197,
     "metadata": {},
     "output_type": "execute_result"
    }
   ],
   "source": [
    "df.columns"
   ]
  },
  {
   "cell_type": "markdown",
   "id": "56cec3c0-2dc2-41c2-aba9-207d468dbc99",
   "metadata": {},
   "source": [
    "Checking the duplicates"
   ]
  },
  {
   "cell_type": "code",
   "execution_count": 200,
   "id": "5046a22c-36e4-4488-bed6-ff8826caf586",
   "metadata": {},
   "outputs": [],
   "source": [
    "duplicates = df[df.duplicated()]"
   ]
  },
  {
   "cell_type": "code",
   "execution_count": 202,
   "id": "c24cc342-8b9f-4094-9f7f-fa1024cc57fb",
   "metadata": {},
   "outputs": [
    {
     "data": {
      "text/plain": [
       "index                 168\n",
       "order_id              168\n",
       "date                  168\n",
       "status                168\n",
       "fulfilment            168\n",
       "sales_channel         168\n",
       "ship_service_level    168\n",
       "category              168\n",
       "size                  168\n",
       "courier_status        168\n",
       "quantity              168\n",
       "currency              157\n",
       "amount                157\n",
       "ship_city             166\n",
       "ship_state            166\n",
       "ship_postal_code      166\n",
       "ship_country          166\n",
       "b2b                   168\n",
       "fulfilled_by           50\n",
       "dtype: int64"
      ]
     },
     "execution_count": 202,
     "metadata": {},
     "output_type": "execute_result"
    }
   ],
   "source": [
    "duplicates.count()"
   ]
  },
  {
   "cell_type": "markdown",
   "id": "85e9b193-d48e-440a-b8e4-da9e80943026",
   "metadata": {},
   "source": [
    "Replacing the null values in other columns"
   ]
  },
  {
   "cell_type": "code",
   "execution_count": 205,
   "id": "36d6b7b1-08c5-4a04-9ebd-60e0ab8456a0",
   "metadata": {},
   "outputs": [
    {
     "data": {
      "text/plain": [
       "array(['Easy Ship', nan], dtype=object)"
      ]
     },
     "execution_count": 205,
     "metadata": {},
     "output_type": "execute_result"
    }
   ],
   "source": [
    "df[\"fulfilled_by\"].unique()"
   ]
  },
  {
   "cell_type": "code",
   "execution_count": 315,
   "id": "66bd6ab0-e976-4b19-9cf0-2b547792dddf",
   "metadata": {},
   "outputs": [
    {
     "data": {
      "text/plain": [
       "0         Easy Ship\n",
       "1         Easy Ship\n",
       "2           Unknown\n",
       "3         Easy Ship\n",
       "4           Unknown\n",
       "            ...    \n",
       "128971      Unknown\n",
       "128972      Unknown\n",
       "128973      Unknown\n",
       "128974      Unknown\n",
       "128975      Unknown\n",
       "Name: fulfilled_by, Length: 128976, dtype: object"
      ]
     },
     "execution_count": 315,
     "metadata": {},
     "output_type": "execute_result"
    }
   ],
   "source": [
    "df['fulfilled_by'] = df[\"fulfilled_by\"].fillna(\"Unknown\")\n",
    "df['fulfilled_by']"
   ]
  },
  {
   "cell_type": "code",
   "execution_count": 317,
   "id": "53dda76b-9c98-43c9-b77b-6d87c473c819",
   "metadata": {},
   "outputs": [
    {
     "data": {
      "text/plain": [
       "index                    0\n",
       "order_id                 0\n",
       "date                     0\n",
       "status                   0\n",
       "fulfilment               0\n",
       "sales_channel            0\n",
       "ship_service_level       0\n",
       "category                 0\n",
       "size                     0\n",
       "courier_status           0\n",
       "quantity                 0\n",
       "currency              7800\n",
       "amount                7800\n",
       "ship_city               35\n",
       "ship_state              35\n",
       "ship_postal_code        35\n",
       "ship_country            35\n",
       "b2b                      0\n",
       "fulfilled_by             0\n",
       "dtype: int64"
      ]
     },
     "execution_count": 317,
     "metadata": {},
     "output_type": "execute_result"
    }
   ],
   "source": [
    "df.isnull().sum()"
   ]
  },
  {
   "cell_type": "code",
   "execution_count": 211,
   "id": "15cbac1a-e1b7-4c3d-b462-6e40a8203dc4",
   "metadata": {},
   "outputs": [
    {
     "data": {
      "text/plain": [
       "array(['INR', nan], dtype=object)"
      ]
     },
     "execution_count": 211,
     "metadata": {},
     "output_type": "execute_result"
    }
   ],
   "source": [
    "df[\"currency\"].unique()"
   ]
  },
  {
   "cell_type": "code",
   "execution_count": 213,
   "id": "3ac037a4-9400-4296-8721-102a0ad72b31",
   "metadata": {},
   "outputs": [
    {
     "data": {
      "text/plain": [
       "array(['IN', nan], dtype=object)"
      ]
     },
     "execution_count": 213,
     "metadata": {},
     "output_type": "execute_result"
    }
   ],
   "source": [
    "df['ship_country'].unique()"
   ]
  },
  {
   "cell_type": "code",
   "execution_count": 319,
   "id": "3c79a57a-31b5-43a3-bba4-e35928986a22",
   "metadata": {},
   "outputs": [
    {
     "data": {
      "text/plain": [
       "0         INR\n",
       "1         INR\n",
       "2         INR\n",
       "3         INR\n",
       "4         INR\n",
       "         ... \n",
       "128971    INR\n",
       "128972    INR\n",
       "128973    INR\n",
       "128974    INR\n",
       "128975    INR\n",
       "Name: currency, Length: 128976, dtype: object"
      ]
     },
     "execution_count": 319,
     "metadata": {},
     "output_type": "execute_result"
    }
   ],
   "source": [
    "df[\"currency\"] = df[\"currency\"].fillna(\"INR\")\n",
    "df[\"currency\"]"
   ]
  },
  {
   "cell_type": "code",
   "execution_count": 321,
   "id": "cdd03f08-23de-499b-a60e-d8996783bc2e",
   "metadata": {},
   "outputs": [
    {
     "data": {
      "text/plain": [
       "index                    0\n",
       "order_id                 0\n",
       "date                     0\n",
       "status                   0\n",
       "fulfilment               0\n",
       "sales_channel            0\n",
       "ship_service_level       0\n",
       "category                 0\n",
       "size                     0\n",
       "courier_status           0\n",
       "quantity                 0\n",
       "currency                 0\n",
       "amount                7800\n",
       "ship_city               35\n",
       "ship_state              35\n",
       "ship_postal_code        35\n",
       "ship_country            35\n",
       "b2b                      0\n",
       "fulfilled_by             0\n",
       "dtype: int64"
      ]
     },
     "execution_count": 321,
     "metadata": {},
     "output_type": "execute_result"
    }
   ],
   "source": [
    "df.isnull().sum()"
   ]
  },
  {
   "cell_type": "code",
   "execution_count": null,
   "id": "03f29d93-18b9-448f-8986-3d2bd391032d",
   "metadata": {},
   "outputs": [],
   "source": []
  },
  {
   "cell_type": "code",
   "execution_count": 220,
   "id": "ac9ce83c-89c3-4443-9e19-19c9f4171460",
   "metadata": {},
   "outputs": [],
   "source": [
    "#df[df[\"ship_city\"].isnull()]"
   ]
  },
  {
   "cell_type": "code",
   "execution_count": 323,
   "id": "2e4d4424-ccc7-486d-9ead-5295e5f779e8",
   "metadata": {},
   "outputs": [
    {
     "data": {
      "text/plain": [
       "0    BENGALURU\n",
       "Name: ship_city, dtype: object"
      ]
     },
     "execution_count": 323,
     "metadata": {},
     "output_type": "execute_result"
    }
   ],
   "source": [
    "df[\"ship_city\"].mode()"
   ]
  },
  {
   "cell_type": "code",
   "execution_count": 325,
   "id": "c448d7c8-1f0e-4336-a65e-75f230da553f",
   "metadata": {},
   "outputs": [
    {
     "data": {
      "text/plain": [
       "0    MAHARASHTRA\n",
       "Name: ship_state, dtype: object"
      ]
     },
     "execution_count": 325,
     "metadata": {},
     "output_type": "execute_result"
    }
   ],
   "source": [
    "df[\"ship_state\"].mode()"
   ]
  },
  {
   "cell_type": "code",
   "execution_count": 327,
   "id": "1c6c0201-9715-4221-8ece-80560d83bf5c",
   "metadata": {},
   "outputs": [
    {
     "data": {
      "text/plain": [
       "0    201301.0\n",
       "Name: ship_postal_code, dtype: float64"
      ]
     },
     "execution_count": 327,
     "metadata": {},
     "output_type": "execute_result"
    }
   ],
   "source": [
    "df[\"ship_postal_code\"].mode()"
   ]
  },
  {
   "cell_type": "code",
   "execution_count": 329,
   "id": "a8e40c0e-0ca4-4099-9ebc-6992925b1813",
   "metadata": {},
   "outputs": [],
   "source": [
    "df_cleaned = df.dropna(subset = [\"ship_city\", \"ship_state\",\"ship_postal_code\", \"ship_country\"])"
   ]
  },
  {
   "cell_type": "code",
   "execution_count": null,
   "id": "f6eb09a2-c2d0-48a6-9e7c-ac8fe4a43f7b",
   "metadata": {},
   "outputs": [],
   "source": []
  },
  {
   "cell_type": "code",
   "execution_count": null,
   "id": "758bd086-023f-4daa-88b9-43b9f3b482cc",
   "metadata": {},
   "outputs": [],
   "source": []
  },
  {
   "cell_type": "code",
   "execution_count": 234,
   "id": "f206e58f-727a-4d21-93f4-cdf6e1486fc6",
   "metadata": {},
   "outputs": [],
   "source": [
    "#df_cleaned.info()"
   ]
  },
  {
   "cell_type": "code",
   "execution_count": 333,
   "id": "14290b1a-ea3f-4c19-8d42-749dbeb8f77d",
   "metadata": {},
   "outputs": [
    {
     "data": {
      "text/plain": [
       "quantity\n",
       "0      600.95\n",
       "1      603.00\n",
       "2     1127.00\n",
       "3     1572.00\n",
       "4     2366.00\n",
       "5     3835.00\n",
       "8     5584.00\n",
       "9         NaN\n",
       "13        NaN\n",
       "15        NaN\n",
       "Name: amount, dtype: float64"
      ]
     },
     "execution_count": 333,
     "metadata": {},
     "output_type": "execute_result"
    }
   ],
   "source": [
    "df_cleaned.groupby('quantity')['amount'].median()"
   ]
  },
  {
   "cell_type": "code",
   "execution_count": null,
   "id": "0b7e741e-4e1d-4283-9fb1-92a63d56821d",
   "metadata": {},
   "outputs": [],
   "source": []
  },
  {
   "cell_type": "code",
   "execution_count": 335,
   "id": "a4dc9cdd-e20f-4ff8-be2d-11708866e423",
   "metadata": {},
   "outputs": [
    {
     "data": {
      "text/plain": [
       "0         600.95\n",
       "1         603.00\n",
       "2         603.00\n",
       "3         600.95\n",
       "4         603.00\n",
       "           ...  \n",
       "128971    603.00\n",
       "128972    603.00\n",
       "128973    603.00\n",
       "128974    603.00\n",
       "128975    603.00\n",
       "Name: amount, Length: 128941, dtype: float64"
      ]
     },
     "execution_count": 335,
     "metadata": {},
     "output_type": "execute_result"
    }
   ],
   "source": [
    "median_amount_per_quantity = df_cleaned.groupby('quantity')['amount'].transform('median')\n",
    "median_amount_per_quantity"
   ]
  },
  {
   "cell_type": "code",
   "execution_count": 337,
   "id": "70639082-7922-4b6f-92a2-7312893a99d1",
   "metadata": {},
   "outputs": [],
   "source": [
    "df['median_amount_per_quantity'] = median_amount_per_quantity"
   ]
  },
  {
   "cell_type": "code",
   "execution_count": 375,
   "id": "bc53561e-cb33-4295-bd93-bf1b23d6aa6f",
   "metadata": {},
   "outputs": [],
   "source": [
    "df_cleaned = df_cleaned.copy()\n",
    "df_cleaned['amount'] = df_cleaned['amount'].fillna(df['median_amount_per_quantity'])"
   ]
  },
  {
   "cell_type": "code",
   "execution_count": 377,
   "id": "172ac52f-4f2b-4ecd-9dd7-845c9c7c910a",
   "metadata": {},
   "outputs": [],
   "source": [
    "#df_cleaned.info()"
   ]
  },
  {
   "cell_type": "code",
   "execution_count": 379,
   "id": "8dd08c39-9584-4b41-b041-68f06bb5cfb7",
   "metadata": {},
   "outputs": [
    {
     "data": {
      "text/plain": [
       "index                 0\n",
       "order_id              0\n",
       "date                  0\n",
       "status                0\n",
       "fulfilment            0\n",
       "sales_channel         0\n",
       "ship_service_level    0\n",
       "category              0\n",
       "size                  0\n",
       "courier_status        0\n",
       "quantity              0\n",
       "currency              0\n",
       "amount                0\n",
       "ship_city             0\n",
       "ship_state            0\n",
       "ship_postal_code      0\n",
       "ship_country          0\n",
       "b2b                   0\n",
       "fulfilled_by          0\n",
       "dtype: int64"
      ]
     },
     "execution_count": 379,
     "metadata": {},
     "output_type": "execute_result"
    }
   ],
   "source": [
    "df_cleaned.isnull().sum()"
   ]
  },
  {
   "cell_type": "code",
   "execution_count": 381,
   "id": "61cbe19a-d282-4dd1-9057-fa107e48f7ce",
   "metadata": {},
   "outputs": [],
   "source": [
    "median_amount = df_cleaned[df_cleaned['quantity']==8]['amount'].median()\n",
    "df_cleaned.loc[df_cleaned['quantity'].isin([9,13,15]), 'amount'] = median_amount"
   ]
  },
  {
   "cell_type": "code",
   "execution_count": 383,
   "id": "2448832c-0a07-4a78-b21f-35691337b647",
   "metadata": {},
   "outputs": [
    {
     "data": {
      "text/plain": [
       "index                 0\n",
       "order_id              0\n",
       "date                  0\n",
       "status                0\n",
       "fulfilment            0\n",
       "sales_channel         0\n",
       "ship_service_level    0\n",
       "category              0\n",
       "size                  0\n",
       "courier_status        0\n",
       "quantity              0\n",
       "currency              0\n",
       "amount                0\n",
       "ship_city             0\n",
       "ship_state            0\n",
       "ship_postal_code      0\n",
       "ship_country          0\n",
       "b2b                   0\n",
       "fulfilled_by          0\n",
       "dtype: int64"
      ]
     },
     "execution_count": 383,
     "metadata": {},
     "output_type": "execute_result"
    }
   ],
   "source": [
    "df_cleaned.isnull().sum()"
   ]
  },
  {
   "cell_type": "markdown",
   "id": "2c074d65-05e4-4e39-bcff-1512bebf4373",
   "metadata": {},
   "source": [
    "Summary statistics\n",
    "\n",
    "3. Descriptive Statistics: Summary Statistics\n",
    "   \n",
    "●\tTask: Write a script that calculates and prints the mean, median, and standard deviation for each numerical column in a dataset.\n"
   ]
  },
  {
   "cell_type": "code",
   "execution_count": 386,
   "id": "dbfc88fd-5a4e-43ce-a235-b14787d2d94d",
   "metadata": {},
   "outputs": [
    {
     "data": {
      "text/html": [
       "<div>\n",
       "<style scoped>\n",
       "    .dataframe tbody tr th:only-of-type {\n",
       "        vertical-align: middle;\n",
       "    }\n",
       "\n",
       "    .dataframe tbody tr th {\n",
       "        vertical-align: top;\n",
       "    }\n",
       "\n",
       "    .dataframe thead th {\n",
       "        text-align: right;\n",
       "    }\n",
       "</style>\n",
       "<table border=\"1\" class=\"dataframe\">\n",
       "  <thead>\n",
       "    <tr style=\"text-align: right;\">\n",
       "      <th></th>\n",
       "      <th>index</th>\n",
       "      <th>quantity</th>\n",
       "      <th>amount</th>\n",
       "      <th>ship_postal_code</th>\n",
       "    </tr>\n",
       "  </thead>\n",
       "  <tbody>\n",
       "    <tr>\n",
       "      <th>count</th>\n",
       "      <td>128941.000000</td>\n",
       "      <td>128941.000000</td>\n",
       "      <td>128941.000000</td>\n",
       "      <td>128941.000000</td>\n",
       "    </tr>\n",
       "    <tr>\n",
       "      <th>mean</th>\n",
       "      <td>64487.286340</td>\n",
       "      <td>0.904414</td>\n",
       "      <td>645.851836</td>\n",
       "      <td>463945.677744</td>\n",
       "    </tr>\n",
       "    <tr>\n",
       "      <th>std</th>\n",
       "      <td>37231.274722</td>\n",
       "      <td>0.313356</td>\n",
       "      <td>273.902122</td>\n",
       "      <td>191458.488954</td>\n",
       "    </tr>\n",
       "    <tr>\n",
       "      <th>min</th>\n",
       "      <td>0.000000</td>\n",
       "      <td>0.000000</td>\n",
       "      <td>0.000000</td>\n",
       "      <td>110001.000000</td>\n",
       "    </tr>\n",
       "    <tr>\n",
       "      <th>25%</th>\n",
       "      <td>32247.000000</td>\n",
       "      <td>1.000000</td>\n",
       "      <td>459.000000</td>\n",
       "      <td>382421.000000</td>\n",
       "    </tr>\n",
       "    <tr>\n",
       "      <th>50%</th>\n",
       "      <td>64486.000000</td>\n",
       "      <td>1.000000</td>\n",
       "      <td>600.950000</td>\n",
       "      <td>500033.000000</td>\n",
       "    </tr>\n",
       "    <tr>\n",
       "      <th>75%</th>\n",
       "      <td>96731.000000</td>\n",
       "      <td>1.000000</td>\n",
       "      <td>771.000000</td>\n",
       "      <td>600024.000000</td>\n",
       "    </tr>\n",
       "    <tr>\n",
       "      <th>max</th>\n",
       "      <td>128974.000000</td>\n",
       "      <td>15.000000</td>\n",
       "      <td>5584.000000</td>\n",
       "      <td>989898.000000</td>\n",
       "    </tr>\n",
       "  </tbody>\n",
       "</table>\n",
       "</div>"
      ],
      "text/plain": [
       "               index       quantity         amount  ship_postal_code\n",
       "count  128941.000000  128941.000000  128941.000000     128941.000000\n",
       "mean    64487.286340       0.904414     645.851836     463945.677744\n",
       "std     37231.274722       0.313356     273.902122     191458.488954\n",
       "min         0.000000       0.000000       0.000000     110001.000000\n",
       "25%     32247.000000       1.000000     459.000000     382421.000000\n",
       "50%     64486.000000       1.000000     600.950000     500033.000000\n",
       "75%     96731.000000       1.000000     771.000000     600024.000000\n",
       "max    128974.000000      15.000000    5584.000000     989898.000000"
      ]
     },
     "execution_count": 386,
     "metadata": {},
     "output_type": "execute_result"
    }
   ],
   "source": [
    "\n",
    "df_cleaned.describe()"
   ]
  },
  {
   "cell_type": "code",
   "execution_count": 394,
   "id": "54d50efa-c061-45da-a183-ccd5c20e6982",
   "metadata": {},
   "outputs": [],
   "source": [
    "df_cleaned['ship_postal_code'] = df_cleaned['ship_postal_code'].astype('object')\n"
   ]
  },
  {
   "cell_type": "code",
   "execution_count": 396,
   "id": "9b849203-0e58-4ef3-8394-3a7627de257a",
   "metadata": {},
   "outputs": [
    {
     "data": {
      "text/html": [
       "<div>\n",
       "<style scoped>\n",
       "    .dataframe tbody tr th:only-of-type {\n",
       "        vertical-align: middle;\n",
       "    }\n",
       "\n",
       "    .dataframe tbody tr th {\n",
       "        vertical-align: top;\n",
       "    }\n",
       "\n",
       "    .dataframe thead th {\n",
       "        text-align: right;\n",
       "    }\n",
       "</style>\n",
       "<table border=\"1\" class=\"dataframe\">\n",
       "  <thead>\n",
       "    <tr style=\"text-align: right;\">\n",
       "      <th></th>\n",
       "      <th>index</th>\n",
       "      <th>quantity</th>\n",
       "      <th>amount</th>\n",
       "    </tr>\n",
       "  </thead>\n",
       "  <tbody>\n",
       "    <tr>\n",
       "      <th>count</th>\n",
       "      <td>128941.000000</td>\n",
       "      <td>128941.000000</td>\n",
       "      <td>128941.000000</td>\n",
       "    </tr>\n",
       "    <tr>\n",
       "      <th>mean</th>\n",
       "      <td>64487.286340</td>\n",
       "      <td>0.904414</td>\n",
       "      <td>645.851836</td>\n",
       "    </tr>\n",
       "    <tr>\n",
       "      <th>std</th>\n",
       "      <td>37231.274722</td>\n",
       "      <td>0.313356</td>\n",
       "      <td>273.902122</td>\n",
       "    </tr>\n",
       "    <tr>\n",
       "      <th>min</th>\n",
       "      <td>0.000000</td>\n",
       "      <td>0.000000</td>\n",
       "      <td>0.000000</td>\n",
       "    </tr>\n",
       "    <tr>\n",
       "      <th>25%</th>\n",
       "      <td>32247.000000</td>\n",
       "      <td>1.000000</td>\n",
       "      <td>459.000000</td>\n",
       "    </tr>\n",
       "    <tr>\n",
       "      <th>50%</th>\n",
       "      <td>64486.000000</td>\n",
       "      <td>1.000000</td>\n",
       "      <td>600.950000</td>\n",
       "    </tr>\n",
       "    <tr>\n",
       "      <th>75%</th>\n",
       "      <td>96731.000000</td>\n",
       "      <td>1.000000</td>\n",
       "      <td>771.000000</td>\n",
       "    </tr>\n",
       "    <tr>\n",
       "      <th>max</th>\n",
       "      <td>128974.000000</td>\n",
       "      <td>15.000000</td>\n",
       "      <td>5584.000000</td>\n",
       "    </tr>\n",
       "  </tbody>\n",
       "</table>\n",
       "</div>"
      ],
      "text/plain": [
       "               index       quantity         amount\n",
       "count  128941.000000  128941.000000  128941.000000\n",
       "mean    64487.286340       0.904414     645.851836\n",
       "std     37231.274722       0.313356     273.902122\n",
       "min         0.000000       0.000000       0.000000\n",
       "25%     32247.000000       1.000000     459.000000\n",
       "50%     64486.000000       1.000000     600.950000\n",
       "75%     96731.000000       1.000000     771.000000\n",
       "max    128974.000000      15.000000    5584.000000"
      ]
     },
     "execution_count": 396,
     "metadata": {},
     "output_type": "execute_result"
    }
   ],
   "source": [
    "df_cleaned.describe()"
   ]
  },
  {
   "cell_type": "code",
   "execution_count": 398,
   "id": "f7f36bce-7b38-4e53-802b-6ae1671d0aed",
   "metadata": {},
   "outputs": [
    {
     "data": {
      "text/plain": [
       "array(['IN'], dtype=object)"
      ]
     },
     "execution_count": 398,
     "metadata": {},
     "output_type": "execute_result"
    }
   ],
   "source": [
    "df_cleaned['ship_country'].unique()"
   ]
  },
  {
   "cell_type": "code",
   "execution_count": 400,
   "id": "8a7adcc6-01dc-47ae-8ddf-bdd6e65c1c1c",
   "metadata": {},
   "outputs": [
    {
     "data": {
      "text/plain": [
       "array(['MAHARASHTRA', 'KARNATAKA', 'PUDUCHERRY', 'TAMIL NADU',\n",
       "       'UTTAR PRADESH', 'CHANDIGARH', 'TELANGANA', 'ANDHRA PRADESH',\n",
       "       'RAJASTHAN', 'DELHI', 'HARYANA', 'ASSAM', 'JHARKHAND',\n",
       "       'CHHATTISGARH', 'ODISHA', 'KERALA', 'MADHYA PRADESH',\n",
       "       'WEST BENGAL', 'NAGALAND', 'Gujarat', 'UTTARAKHAND', 'BIHAR',\n",
       "       'JAMMU & KASHMIR', 'PUNJAB', 'HIMACHAL PRADESH',\n",
       "       'ARUNACHAL PRADESH', 'Goa', 'MEGHALAYA', 'GOA', 'MANIPUR',\n",
       "       'TRIPURA', 'LADAKH', 'DADRA AND NAGAR', 'SIKKIM', 'Delhi',\n",
       "       'ANDAMAN & NICOBAR', 'Punjab', 'Rajshthan', 'Manipur', 'rajasthan',\n",
       "       'Odisha', 'NL', 'Bihar', 'MIZORAM', 'punjab', 'New Delhi',\n",
       "       'Rajasthan', 'Punjab/Mohali/Zirakpur', 'Puducherry', 'delhi', 'RJ',\n",
       "       'Chandigarh', 'orissa', 'LAKSHADWEEP', 'goa', 'PB', 'APO',\n",
       "       'Arunachal Pradesh', 'AR', 'Pondicherry', 'Sikkim',\n",
       "       'Arunachal pradesh', 'Nagaland', 'bihar', 'Mizoram', 'rajsthan',\n",
       "       'Orissa', 'Rajsthan', 'Meghalaya'], dtype=object)"
      ]
     },
     "execution_count": 400,
     "metadata": {},
     "output_type": "execute_result"
    }
   ],
   "source": [
    "df_cleaned['ship_state'].unique()"
   ]
  },
  {
   "cell_type": "code",
   "execution_count": 402,
   "id": "5838f485-f07c-42b1-a8b6-b548c0d8178b",
   "metadata": {},
   "outputs": [
    {
     "data": {
      "text/plain": [
       "array(['Maharashtra', 'Karnataka', 'Puducherry', 'Tamil Nadu',\n",
       "       'Uttar Pradesh', 'Chandigarh', 'Telangana', 'Andhra Pradesh',\n",
       "       'Rajasthan', 'Delhi', 'Haryana', 'Assam', 'Jharkhand',\n",
       "       'Chhattisgarh', 'Odisha', 'Kerala', 'Madhya Pradesh',\n",
       "       'West Bengal', 'Nagaland', 'Gujarat', 'Uttarakhand', 'Bihar',\n",
       "       'Jammu & Kashmir', 'Punjab', 'Himachal Pradesh',\n",
       "       'Arunachal Pradesh', 'Goa', 'Meghalaya', 'Manipur', 'Tripura',\n",
       "       'Ladakh', 'Dadra And Nagar', 'Sikkim', 'Andaman & Nicobar',\n",
       "       'Rajshthan', 'Nl', 'Mizoram', 'New Delhi',\n",
       "       'Punjab/Mohali/Zirakpur', 'Rj', 'Orissa', 'Lakshadweep', 'Pb',\n",
       "       'Apo', 'Ar', 'Pondicherry', 'Rajsthan'], dtype=object)"
      ]
     },
     "execution_count": 402,
     "metadata": {},
     "output_type": "execute_result"
    }
   ],
   "source": [
    "df_cleaned['ship_state'] = df_cleaned['ship_state'].str.title()\n",
    "df_cleaned['ship_state'].unique()"
   ]
  },
  {
   "cell_type": "code",
   "execution_count": 404,
   "id": "ad3813dd-3182-4b7f-acf6-e388894227e9",
   "metadata": {},
   "outputs": [],
   "source": [
    "state_dict = {'Rajsthan': 'Rajasthan',\n",
    "                              'Orissa':'Odisha', \n",
    "                              'Rj': 'Rajasthan', \n",
    "                              'Pb':'Punjab',\n",
    "                              'Nl': 'Nagaland', \n",
    "                              'Punjab/Mohali/Zirakpur': 'Punjab',\n",
    "                              'Apo': 'Andhra Pradesh', \n",
    "                              'Ar': 'Arunachal Pradesh', \n",
    "                              'Puducherry':'Pondicherry'}"
   ]
  },
  {
   "cell_type": "code",
   "execution_count": 406,
   "id": "b32241b9-06a4-44cf-b2a8-34eba4eba49f",
   "metadata": {},
   "outputs": [
    {
     "data": {
      "text/plain": [
       "{'Rajsthan': 'Rajasthan',\n",
       " 'Orissa': 'Odisha',\n",
       " 'Rj': 'Rajasthan',\n",
       " 'Pb': 'Punjab',\n",
       " 'Nl': 'Nagaland',\n",
       " 'Punjab/Mohali/Zirakpur': 'Punjab',\n",
       " 'Apo': 'Andhra Pradesh',\n",
       " 'Ar': 'Arunachal Pradesh',\n",
       " 'Puducherry': 'Pondicherry'}"
      ]
     },
     "execution_count": 406,
     "metadata": {},
     "output_type": "execute_result"
    }
   ],
   "source": [
    "state_dict"
   ]
  },
  {
   "cell_type": "raw",
   "id": "58bcdd91-ee97-4eaf-8912-7038bf81a140",
   "metadata": {},
   "source": [
    "Need to create a copy when we're working with a slice of a DataFrame to avoid modifying the original data and to prevent unexpected behavior or warnings. Using .copy() ensures we are working on an independent copy, making the changes safe and predictable. Ensure,  working with a copy of the DataFrame"
   ]
  },
  {
   "cell_type": "code",
   "execution_count": 503,
   "id": "fd1a23aa-d0d4-479e-9eda-5096763ab7c7",
   "metadata": {},
   "outputs": [],
   "source": [
    "#df_cleaned = df_cleaned.copy()  \n",
    "df_cleaned['ship_state'] = df_cleaned['ship_state'].replace(state_dict)\n"
   ]
  },
  {
   "cell_type": "code",
   "execution_count": 505,
   "id": "07d7d80b-fb5a-4842-be93-f1565481e993",
   "metadata": {},
   "outputs": [
    {
     "data": {
      "text/plain": [
       "array(['Maharashtra', 'Karnataka', 'Pondicherry', 'Tamil Nadu',\n",
       "       'Uttar Pradesh', 'Chandigarh', 'Telangana', 'Andhra Pradesh',\n",
       "       'Rajasthan', 'Delhi', 'Haryana', 'Assam', 'Jharkhand',\n",
       "       'Chhattisgarh', 'Odisha', 'Kerala', 'Madhya Pradesh',\n",
       "       'West Bengal', 'Nagaland', 'Gujarat', 'Uttarakhand', 'Bihar',\n",
       "       'Jammu & Kashmir', 'Punjab', 'Himachal Pradesh',\n",
       "       'Arunachal Pradesh', 'Goa', 'Meghalaya', 'Manipur', 'Tripura',\n",
       "       'Ladakh', 'Dadra And Nagar', 'Sikkim', 'Andaman & Nicobar',\n",
       "       'Rajshthan', 'Mizoram', 'New Delhi', 'Lakshadweep'], dtype=object)"
      ]
     },
     "execution_count": 505,
     "metadata": {},
     "output_type": "execute_result"
    }
   ],
   "source": [
    "df_cleaned['ship_state'].unique()"
   ]
  },
  {
   "cell_type": "code",
   "execution_count": 412,
   "id": "e187b310-b74a-4d6c-a35d-cace487e3b3d",
   "metadata": {},
   "outputs": [
    {
     "data": {
      "text/plain": [
       "array(['MUMBAI', 'BENGALURU', 'NAVI MUMBAI', ...,\n",
       "       'GULABPURA, Distt BHILWARA', 'Prayagraj (ALLAHABAD)', 'Halol'],\n",
       "      dtype=object)"
      ]
     },
     "execution_count": 412,
     "metadata": {},
     "output_type": "execute_result"
    }
   ],
   "source": [
    "df_cleaned['ship_city'].unique()"
   ]
  },
  {
   "cell_type": "code",
   "execution_count": 414,
   "id": "8abf2bcf-806f-4f51-a6f5-f4a45d92c44a",
   "metadata": {},
   "outputs": [],
   "source": [
    "#Found outliers in Quantity and Amount columns\n",
    "#plt.boxplot('amount', data = df_cleaned)\n",
    "#plt.title ('Finding outliers in Amount column')\n",
    "#plt.show()"
   ]
  },
  {
   "cell_type": "code",
   "execution_count": 416,
   "id": "0a5fa9bc-0dad-4d46-abd0-85c612a260bb",
   "metadata": {},
   "outputs": [
    {
     "data": {
      "image/png": "[encoded data removed]",
      "text/plain": [
       "<Figure size 640x480 with 1 Axes>"
      ]
     },
     "metadata": {},
     "output_type": "display_data"
    }
   ],
   "source": [
    "plt.boxplot(df_cleaned['quantity'])\n",
    "plt.title ('Finding outliers in Quantity column')\n",
    "plt.show()"
   ]
  },
  {
   "cell_type": "code",
   "execution_count": 418,
   "id": "f91b04ed-2895-450a-bef6-82104489b795",
   "metadata": {},
   "outputs": [
    {
     "data": {
      "text/plain": [
       "array([ 0,  1,  2, 15,  3,  9, 13,  5,  4,  8], dtype=int64)"
      ]
     },
     "execution_count": 418,
     "metadata": {},
     "output_type": "execute_result"
    }
   ],
   "source": [
    "df_cleaned[\"quantity\"].unique()"
   ]
  },
  {
   "cell_type": "code",
   "execution_count": 420,
   "id": "cc24326c-1aa8-4207-990e-fd4da4067579",
   "metadata": {},
   "outputs": [
    {
     "name": "stderr",
     "output_type": "stream",
     "text": [
      "C:\\Users\\padma\\AppData\\Local\\Temp\\ipykernel_41812\\281843161.py:1: UserWarning: Could not infer format, so each element will be parsed individually, falling back to `dateutil`. To ensure parsing is consistent and as-expected, please specify a format.\n",
      "  df_cleaned[\"date\"] = pd.to_datetime(df_cleaned[\"date\"])\n"
     ]
    }
   ],
   "source": [
    "df_cleaned[\"date\"] = pd.to_datetime(df_cleaned[\"date\"])"
   ]
  },
  {
   "cell_type": "code",
   "execution_count": null,
   "id": "6f695410-f34b-4ec6-a1ff-9809ec37357e",
   "metadata": {},
   "outputs": [],
   "source": []
  },
  {
   "cell_type": "markdown",
   "id": "fefa5032-38e9-4ca2-84b9-9da01453c659",
   "metadata": {},
   "source": [
    "2. Data Visualization: Plotting Histograms\n",
    "●\tTask: Write a script that loads a CSV file and plots histograms for all numerical columns in the dataset using matplotlib.\n"
   ]
  },
  {
   "cell_type": "code",
   "execution_count": 517,
   "id": "2099b072-60d9-4be7-b0e9-f187247626af",
   "metadata": {},
   "outputs": [],
   "source": [
    "\n",
    "%matplotlib inline\n",
    "abs_values_qty =  df_cleaned['quantity'].value_counts(ascending = False).values"
   ]
  },
  {
   "cell_type": "code",
   "execution_count": 523,
   "id": "ac514b19-0304-4b01-b4ac-23e1af99d55d",
   "metadata": {},
   "outputs": [
    {
     "data": {
      "image/png": "[encoded data removed]",
      "text/plain": [
       "<Figure size 640x480 with 1 Axes>"
      ]
     },
     "metadata": {},
     "output_type": "display_data"
    }
   ],
   "source": [
    "ax_qty = sns.countplot(x = df_cleaned['quantity'], order = df_cleaned['quantity'].value_counts(ascending = False).index)\n",
    "ax_qty.bar_label(container=ax_qty.containers[0], labels=abs_values_qty)\n",
    "plt.title(\"Quantity Histogram\")\n",
    "plt.xlabel(\"Quantity\")\n",
    "plt.ylabel(\"Count\")\n",
    "plt.show()"
   ]
  },
  {
   "cell_type": "code",
   "execution_count": null,
   "id": "827403cf-5069-47d8-8547-34ccfa276f05",
   "metadata": {},
   "outputs": [],
   "source": []
  },
  {
   "cell_type": "markdown",
   "id": "6be68104-f1e3-44b5-9dd3-bddd367a3d78",
   "metadata": {},
   "source": [
    "4. Data Filtering:\n",
    "  \n",
    "Conditional Filtering\n",
    "\n",
    "Task: Write a script that filters rows in a DataFrame where a specific column's value meets a certain condition (e.g., values greater than a threshold).\n"
   ]
  },
  {
   "cell_type": "code",
   "execution_count": 279,
   "id": "7da45426-7087-4205-b7a4-d5ae8a30b357",
   "metadata": {},
   "outputs": [
    {
     "data": {
      "text/html": [
       "<div>\n",
       "<style scoped>\n",
       "    .dataframe tbody tr th:only-of-type {\n",
       "        vertical-align: middle;\n",
       "    }\n",
       "\n",
       "    .dataframe tbody tr th {\n",
       "        vertical-align: top;\n",
       "    }\n",
       "\n",
       "    .dataframe thead th {\n",
       "        text-align: right;\n",
       "    }\n",
       "</style>\n",
       "<table border=\"1\" class=\"dataframe\">\n",
       "  <thead>\n",
       "    <tr style=\"text-align: right;\">\n",
       "      <th></th>\n",
       "      <th>index</th>\n",
       "      <th>order_id</th>\n",
       "      <th>date</th>\n",
       "      <th>status</th>\n",
       "      <th>fulfilment</th>\n",
       "      <th>sales_channel</th>\n",
       "      <th>ship_service_level</th>\n",
       "      <th>category</th>\n",
       "      <th>size</th>\n",
       "      <th>courier_status</th>\n",
       "      <th>quantity</th>\n",
       "      <th>currency</th>\n",
       "      <th>amount</th>\n",
       "      <th>ship_city</th>\n",
       "      <th>ship_state</th>\n",
       "      <th>ship_postal_code</th>\n",
       "      <th>ship_country</th>\n",
       "      <th>b2b</th>\n",
       "      <th>fulfilled_by</th>\n",
       "      <th>state_dict</th>\n",
       "    </tr>\n",
       "  </thead>\n",
       "  <tbody>\n",
       "    <tr>\n",
       "      <th>938</th>\n",
       "      <td>937</td>\n",
       "      <td>S02-5278980-4327051</td>\n",
       "      <td>2022-04-30</td>\n",
       "      <td>Shipped</td>\n",
       "      <td>Amazon</td>\n",
       "      <td>Non-Amazon</td>\n",
       "      <td>Standard</td>\n",
       "      <td>Wallet</td>\n",
       "      <td>Free</td>\n",
       "      <td>Unshipped</td>\n",
       "      <td>15</td>\n",
       "      <td>NaN</td>\n",
       "      <td>NaN</td>\n",
       "      <td>Surat</td>\n",
       "      <td>Gujarat</td>\n",
       "      <td>394210.0</td>\n",
       "      <td>IN</td>\n",
       "      <td>False</td>\n",
       "      <td>NaN</td>\n",
       "      <td>Gujarat</td>\n",
       "    </tr>\n",
       "    <tr>\n",
       "      <th>3637</th>\n",
       "      <td>3636</td>\n",
       "      <td>S02-6828927-1180856</td>\n",
       "      <td>2022-04-28</td>\n",
       "      <td>Shipped</td>\n",
       "      <td>Amazon</td>\n",
       "      <td>Non-Amazon</td>\n",
       "      <td>Standard</td>\n",
       "      <td>Shirt</td>\n",
       "      <td>XXL</td>\n",
       "      <td>Unshipped</td>\n",
       "      <td>13</td>\n",
       "      <td>NaN</td>\n",
       "      <td>NaN</td>\n",
       "      <td>Surat</td>\n",
       "      <td>Gujarat</td>\n",
       "      <td>394210.0</td>\n",
       "      <td>IN</td>\n",
       "      <td>False</td>\n",
       "      <td>NaN</td>\n",
       "      <td>Gujarat</td>\n",
       "    </tr>\n",
       "  </tbody>\n",
       "</table>\n",
       "</div>"
      ],
      "text/plain": [
       "      index             order_id       date   status fulfilment sales_channel  \\\n",
       "938     937  S02-5278980-4327051 2022-04-30  Shipped     Amazon    Non-Amazon   \n",
       "3637   3636  S02-6828927-1180856 2022-04-28  Shipped     Amazon    Non-Amazon   \n",
       "\n",
       "     ship_service_level category  size courier_status  quantity currency  \\\n",
       "938            Standard   Wallet  Free      Unshipped        15      NaN   \n",
       "3637           Standard    Shirt   XXL      Unshipped        13      NaN   \n",
       "\n",
       "      amount ship_city ship_state  ship_postal_code ship_country    b2b  \\\n",
       "938      NaN     Surat    Gujarat          394210.0           IN  False   \n",
       "3637     NaN     Surat    Gujarat          394210.0           IN  False   \n",
       "\n",
       "     fulfilled_by state_dict  \n",
       "938           NaN    Gujarat  \n",
       "3637          NaN    Gujarat  "
      ]
     },
     "execution_count": 279,
     "metadata": {},
     "output_type": "execute_result"
    }
   ],
   "source": [
    "df_cleaned[df_cleaned['quantity']>10]"
   ]
  },
  {
   "cell_type": "code",
   "execution_count": null,
   "id": "5f592f90-7bc0-42c7-a056-df76da29c1c0",
   "metadata": {},
   "outputs": [],
   "source": []
  },
  {
   "cell_type": "code",
   "execution_count": 595,
   "id": "9c1717cb-6bbd-4f84-ac76-27d2014e409f",
   "metadata": {},
   "outputs": [
    {
     "data": {
      "image/png": "[encoded data removed]",
      "text/plain": [
       "<Figure size 640x480 with 1 Axes>"
      ]
     },
     "metadata": {},
     "output_type": "display_data"
    }
   ],
   "source": [
    "#plt.figure(figsize = (8,5), dpi = 100)\n",
    "#counts, edges, bars = plt.hist(df_cleaned['amount'], bins = 30)\n",
    "#plt.bar_label(bars)\n",
    "#plt.title(\"Amount Histogram\")\n",
    "#plt.xlabel('Amount')\n",
    "#plt.ylabel('Count')\n",
    "#plt.show()\n",
    "plt.hist(df_cleaned['amount'], bins=20, color = '#108499')\n",
    "plt.title('Amount Distribution')\n",
    "plt.show()"
   ]
  },
  {
   "cell_type": "code",
   "execution_count": 540,
   "id": "7c0a40dc-4400-45e6-b061-4cca3d3e7d13",
   "metadata": {},
   "outputs": [],
   "source": [
    "#counts\n"
   ]
  },
  {
   "cell_type": "code",
   "execution_count": 542,
   "id": "1d466038-fcc9-44db-9ac9-8b08ad5d149d",
   "metadata": {},
   "outputs": [],
   "source": [
    "#edges"
   ]
  },
  {
   "cell_type": "code",
   "execution_count": 599,
   "id": "a46d7b14-deb4-4327-b76c-6d81e64c4e45",
   "metadata": {},
   "outputs": [
    {
     "data": {
      "image/png": "[encoded data removed]",
      "text/plain": [
       "<Figure size 640x480 with 1 Axes>"
      ]
     },
     "metadata": {},
     "output_type": "display_data"
    }
   ],
   "source": [
    "\n",
    "abs_values_status =  df_cleaned['status'].value_counts(ascending = False).values\n",
    "ax_status = sns.countplot(x = df_cleaned['status'], order = df_cleaned['status'].value_counts(ascending = False).index, color = '#108499')\n",
    "ax_status.bar_label(container=ax_status.containers[0], labels=abs_values_status)\n",
    "\n",
    "plt.xlabel(\"Courier Status\")\n",
    "plt.ylabel(\"Count\")\n",
    "plt.xticks(rotation=90)\n",
    "plt.show()"
   ]
  },
  {
   "cell_type": "code",
   "execution_count": 621,
   "id": "57c484bb-72e1-4c92-b13c-45c1f946d9e1",
   "metadata": {},
   "outputs": [
    {
     "data": {
      "image/png": "[encoded data removed]",
      "text/plain": [
       "<Figure size 640x480 with 1 Axes>"
      ]
     },
     "metadata": {},
     "output_type": "display_data"
    }
   ],
   "source": [
    "#4.\tFulfilment (object):\n",
    "#Identifies how the order was fulfilled (e.g., Amazon Fulfillment or merchant Fulfillment).\n",
    "abs_values_fulfilment = df_cleaned['fulfilment'].value_counts(ascending = True).values\n",
    "ax_fulfilment = sns.countplot(x = df_cleaned['fulfilment'], order = df_cleaned['fulfilment'].value_counts(ascending = True).index, color = '#108499')\n",
    "ax_fulfilment.bar_label(container = ax_fulfilment.containers[0], labels = abs_values_fulfilment)\n",
    "plt.title('Distribution of Status')\n",
    "plt.xlabel(\"Status\")\n",
    "plt.ylabel(\"Count\")\n",
    "plt.show()"
   ]
  },
  {
   "cell_type": "code",
   "execution_count": null,
   "id": "d4d4c52f-c529-47a6-a208-15cb2399f8f4",
   "metadata": {},
   "outputs": [],
   "source": []
  },
  {
   "cell_type": "code",
   "execution_count": null,
   "id": "b785584d-4b6d-4e4a-b9d9-fa93799ae02a",
   "metadata": {},
   "outputs": [],
   "source": []
  },
  {
   "cell_type": "code",
   "execution_count": 589,
   "id": "978e38b3-22e8-4d87-a1c3-1a8d2cd59f92",
   "metadata": {},
   "outputs": [],
   "source": [
    "\n"
   ]
  },
  {
   "cell_type": "code",
   "execution_count": 619,
   "id": "dffe372b-a650-4d7b-92bb-840a0c914987",
   "metadata": {},
   "outputs": [
    {
     "data": {
      "image/png": "[encoded data removed]",
      "text/plain": [
       "<Figure size 640x480 with 1 Axes>"
      ]
     },
     "metadata": {},
     "output_type": "display_data"
    }
   ],
   "source": [
    "#5.\tSales Channel (object):\n",
    "#Represents the platform through which the order was placed\n",
    "abs_values_sales_channel = df_cleaned['sales_channel'].value_counts(ascending = True).values\n",
    "ax_sales_channel = sns.countplot(x = df_cleaned['sales_channel'], order = df_cleaned['sales_channel'].value_counts(ascending = True).index, color = '#108499')\n",
    "ax_sales_channel.bar_label(container = ax_sales_channel.containers[0], labels = abs_values_sales_channel)\n",
    "plt.title('Distribution of sales_channel')\n",
    "plt.xlabel(\"sales_channel\")\n",
    "plt.ylabel(\"Count\")\n",
    "plt.show()\n"
   ]
  },
  {
   "cell_type": "code",
   "execution_count": 615,
   "id": "2590fcee-0820-483d-afed-d2599a21dec7",
   "metadata": {},
   "outputs": [
    {
     "data": {
      "image/png": "[encoded data removed]",
      "text/plain": [
       "<Figure size 600x500 with 1 Axes>"
      ]
     },
     "metadata": {},
     "output_type": "display_data"
    }
   ],
   "source": [
    "\n",
    "plt.figure(figsize = (6,5),dpi = 100)\n",
    "abs_values_category =  df_cleaned['category'].value_counts(ascending = False).values\n",
    "ax_category = sns.countplot(x = df_cleaned['category'], order = df_cleaned['category'].value_counts(ascending = False).index, color = '#108499')\n",
    "ax_category.bar_label(container=ax_category.containers[0], labels=abs_values_category)\n",
    "\n",
    "plt.xlabel(\"Category\")\n",
    "plt.ylabel(\"Count\")\n",
    "plt.xticks(rotation = 90)\n",
    "plt.show()\n"
   ]
  },
  {
   "cell_type": "code",
   "execution_count": 466,
   "id": "5cc8189f-82b4-4892-8053-6b5cf2f739b6",
   "metadata": {},
   "outputs": [
    {
     "data": {
      "text/plain": [
       "Index(['Shipped', 'On the Way', 'Unshipped', 'Cancelled'], dtype='object', name='courier_status')"
      ]
     },
     "execution_count": 466,
     "metadata": {},
     "output_type": "execute_result"
    }
   ],
   "source": [
    "df_cleaned['courier_status'].value_counts(ascending = False).index\n",
    "\n"
   ]
  },
  {
   "cell_type": "code",
   "execution_count": 513,
   "id": "8a05bc02-de67-4e19-b6db-4706742b82fc",
   "metadata": {},
   "outputs": [],
   "source": []
  },
  {
   "cell_type": "code",
   "execution_count": 607,
   "id": "1afaa28d-0388-4fa0-8e50-b0f2b569b368",
   "metadata": {},
   "outputs": [
    {
     "data": {
      "image/png": "[encoded data removed]",
      "text/plain": [
       "<Figure size 640x480 with 1 Axes>"
      ]
     },
     "metadata": {},
     "output_type": "display_data"
    }
   ],
   "source": [
    "abs_values =  df_cleaned['courier_status'].value_counts(ascending = False).values\n",
    "ax = sns.countplot(x = df_cleaned['courier_status'], order = df_cleaned['courier_status'].value_counts(ascending = False).index, color = '#108499')\n",
    "ax.bar_label(container=ax.containers[0], labels=abs_values)\n",
    "\n",
    "plt.xlabel(\"Courier Status\")\n",
    "plt.ylabel(\"Count\")\n",
    "plt.show()"
   ]
  },
  {
   "cell_type": "code",
   "execution_count": null,
   "id": "7f857fb0-ac11-4a89-b7df-ad00e9b42537",
   "metadata": {},
   "outputs": [],
   "source": []
  },
  {
   "cell_type": "code",
   "execution_count": 551,
   "id": "b0fb1f85-33fc-4555-85b1-7610e7186409",
   "metadata": {},
   "outputs": [
    {
     "data": {
      "text/plain": [
       "Index(['index', 'order_id', 'date', 'status', 'fulfilment', 'sales_channel',\n",
       "       'ship_service_level', 'category', 'size', 'courier_status', 'quantity',\n",
       "       'currency', 'amount', 'ship_city', 'ship_state', 'ship_postal_code',\n",
       "       'ship_country', 'b2b', 'fulfilled_by', 'state_dict'],\n",
       "      dtype='object')"
      ]
     },
     "execution_count": 551,
     "metadata": {},
     "output_type": "execute_result"
    }
   ],
   "source": [
    "df_cleaned.columns"
   ]
  },
  {
   "cell_type": "code",
   "execution_count": null,
   "id": "ee640362-2e91-494e-96fd-9711d332eeaa",
   "metadata": {},
   "outputs": [],
   "source": []
  },
  {
   "cell_type": "code",
   "execution_count": 437,
   "id": "2c3a22de-4a62-47f5-a8ab-840b0e48ce25",
   "metadata": {},
   "outputs": [
    {
     "data": {
      "text/plain": [
       "fulfilment\n",
       "Amazon      57978707.10\n",
       "Merchant    25298074.45\n",
       "Name: amount, dtype: float64"
      ]
     },
     "execution_count": 437,
     "metadata": {},
     "output_type": "execute_result"
    }
   ],
   "source": [
    "df_cleaned.groupby('fulfilment')['amount'].sum()"
   ]
  },
  {
   "cell_type": "code",
   "execution_count": 305,
   "id": "399c376f-ff31-4331-951d-a55789a28147",
   "metadata": {},
   "outputs": [
    {
     "data": {
      "text/plain": [
       "fulfilment\n",
       "Amazon      84077\n",
       "Merchant    32539\n",
       "Name: quantity, dtype: int64"
      ]
     },
     "execution_count": 305,
     "metadata": {},
     "output_type": "execute_result"
    }
   ],
   "source": [
    "df_cleaned.groupby('fulfilment')['quantity'].sum()"
   ]
  },
  {
   "cell_type": "code",
   "execution_count": 307,
   "id": "0a7a36ed-f93b-46cc-8d19-7ef2b19ca7dd",
   "metadata": {},
   "outputs": [
    {
     "data": {
      "text/plain": [
       "sales_channel\n",
       "Amazon.in     83182238.55\n",
       "Non-Amazon       77791.00\n",
       "Name: amount, dtype: float64"
      ]
     },
     "execution_count": 307,
     "metadata": {},
     "output_type": "execute_result"
    }
   ],
   "source": [
    "df_cleaned.groupby('sales_channel')['amount'].sum()"
   ]
  },
  {
   "cell_type": "code",
   "execution_count": 439,
   "id": "7d928ff2-11fd-4cd1-9fdb-35e208ca43c4",
   "metadata": {},
   "outputs": [
    {
     "data": {
      "text/plain": [
       "category\n",
       "Blazzer     11693334.47\n",
       "Perfume       829082.36\n",
       "Shirt       23202462.48\n",
       "Shoes         130161.31\n",
       "Socks         162778.55\n",
       "T-shirt     41148228.55\n",
       "Trousers     5618854.70\n",
       "Wallet        490964.13\n",
       "Watch            915.00\n",
       "Name: amount, dtype: float64"
      ]
     },
     "execution_count": 439,
     "metadata": {},
     "output_type": "execute_result"
    }
   ],
   "source": [
    "df_cleaned.groupby('category')['amount'].sum()"
   ]
  },
  {
   "cell_type": "code",
   "execution_count": 450,
   "id": "086fc1ed-7e58-414c-b81b-baa900f3ffab",
   "metadata": {},
   "outputs": [],
   "source": [
    "top_10_states_amount = df_cleaned.groupby('ship_state')['amount'].sum().sort_values(ascending = False).head(10)"
   ]
  },
  {
   "cell_type": "code",
   "execution_count": 452,
   "id": "c7d7175e-4456-4f67-b1c1-2a4377ed7f1d",
   "metadata": {},
   "outputs": [
    {
     "data": {
      "text/plain": [
       "ship_state\n",
       "Maharashtra       14054261.65\n",
       "Karnataka         11041981.52\n",
       "Telangana          7332077.38\n",
       "Uttar Pradesh      7238602.58\n",
       "Tamil Nadu         6924823.55\n",
       "Delhi              4583526.51\n",
       "Kerala             4084371.88\n",
       "West Bengal        3757208.02\n",
       "Andhra Pradesh     3443216.11\n",
       "Haryana            3016170.69\n",
       "Name: amount, dtype: float64"
      ]
     },
     "execution_count": 452,
     "metadata": {},
     "output_type": "execute_result"
    }
   ],
   "source": [
    "top_10_states_amount"
   ]
  },
  {
   "cell_type": "code",
   "execution_count": 454,
   "id": "24b8c17a-738b-4713-af14-64b12a201af4",
   "metadata": {},
   "outputs": [],
   "source": [
    "top_10_states_quantity = df_cleaned.groupby('ship_state')['quantity'].sum().sort_values(ascending = False).head(10)"
   ]
  },
  {
   "cell_type": "code",
   "execution_count": 456,
   "id": "0048ae0e-11e2-4351-a87f-13a9de761ac7",
   "metadata": {},
   "outputs": [
    {
     "data": {
      "text/plain": [
       "ship_state\n",
       "Maharashtra       20338\n",
       "Karnataka         15901\n",
       "Tamil Nadu        10416\n",
       "Telangana         10253\n",
       "Uttar Pradesh      9507\n",
       "Delhi              6321\n",
       "Kerala             5805\n",
       "West Bengal        5316\n",
       "Andhra Pradesh     4816\n",
       "Gujarat            4142\n",
       "Name: quantity, dtype: int64"
      ]
     },
     "execution_count": 456,
     "metadata": {},
     "output_type": "execute_result"
    }
   ],
   "source": [
    "top_10_states_quantity"
   ]
  },
  {
   "cell_type": "code",
   "execution_count": null,
   "id": "033958fb-741a-46a9-96ad-0e8543a33c06",
   "metadata": {},
   "outputs": [],
   "source": []
  }
 ],
 "metadata": {
  "kernelspec": {
   "display_name": "Python 3 (ipykernel)",
   "language": "python",
   "name": "python3"
  },
  "language_info": {
   "codemirror_mode": {
    "name": "ipython",
    "version": 3
   },
   "file_extension": ".py",
   "mimetype": "text/x-python",
   "name": "python",
   "nbconvert_exporter": "python",
   "pygments_lexer": "ipython3",
   "version": "3.12.4"
  }
 },
 "nbformat": 4,
 "nbformat_minor": 5
}
